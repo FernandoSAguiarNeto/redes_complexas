{
 "cells": [
  {
   "cell_type": "markdown",
   "metadata": {},
   "source": [
    "## Imports principais"
   ]
  },
  {
   "cell_type": "code",
   "execution_count": 3,
   "metadata": {},
   "outputs": [],
   "source": [
    "import networkx as nx\n",
    "import seaborn as sns"
   ]
  },
  {
   "cell_type": "markdown",
   "metadata": {},
   "source": [
    "## Definições de funções\n",
    "### Aqui serão definidas as funções utilizadas no restante do código, facilitando a leitura do código nos enunciados.\n"
   ]
  },
  {
   "cell_type": "code",
   "execution_count": 35,
   "metadata": {},
   "outputs": [],
   "source": [
    "#Fonte: Material de aula\n",
    "def printInfo(graph):\n",
    "    N = len(graph)\n",
    "    M = graph.number_of_edges()\n",
    "    print('Nós:', N)\n",
    "    print('Arestas:', M)\n",
    "    print('Grau Médio:', 2*M/N)"
   ]
  },
  {
   "cell_type": "markdown",
   "metadata": {},
   "source": [
    "## Leitura dos grafos principais (apenas o maior componente conexo é mantido)."
   ]
  },
  {
   "cell_type": "code",
   "execution_count": 48,
   "metadata": {},
   "outputs": [
    {
     "name": "stdout",
     "output_type": "stream",
     "text": [
      "\n",
      "\n",
      "USA Airport\n",
      "Nós: 1572\n",
      "Arestas: 17214\n",
      "Grau Médio: 21.900763358778626\n",
      "\n",
      "\n",
      "C-Elegans\n",
      "Fonte: https://snap.stanford.edu/data/C-elegans-frontal.html\n",
      "A versao em .gml estava dando erro.\n",
      "Nós: 131\n",
      "Arestas: 687\n",
      "Grau Médio: 10.488549618320612\n",
      "\n",
      "\n",
      "C-Elegans 2004\n",
      "Nós: 1084\n",
      "Arestas: 1639\n",
      "Grau Médio: 3.0239852398523985\n",
      "\n",
      "\n",
      "C-Elegans 2007\n",
      "Nós: 1108\n",
      "Arestas: 1554\n",
      "Grau Médio: 2.8050541516245486\n",
      "E-Roads\n",
      "Nós: 1039\n",
      "Arestas: 1305\n",
      "Grau Médio: 2.512030798845043\n",
      "\n",
      "\n",
      "Hamsterster Friends\n",
      "Nós: 1788\n",
      "Arestas: 12476\n",
      "Grau Médio: 13.955257270693512\n",
      "\n",
      "\n",
      "Human Protein\n",
      "Nós: 2783\n",
      "Arestas: 6438\n",
      "Grau Médio: 4.626661875673733\n",
      "\n",
      "\n",
      "Karate Club\n",
      "Nós: 34\n",
      "Arestas: 78\n",
      "Grau Médio: 4.588235294117647\n",
      "\n",
      "\n",
      "Power Grid\n",
      "Nós: 4941\n",
      "Arestas: 6594\n",
      "Grau Médio: 2.66909532483303\n",
      "\n",
      "\n",
      "R Dependencies\n",
      "Nós: 2447\n",
      "Arestas: 5439\n",
      "Grau Médio: 4.445443400081733\n"
     ]
    }
   ],
   "source": [
    "# Airport\n",
    "airport = nx.read_edgelist(\"datasets/USairport_2010.txt\", nodetype=int, data=(('weight',float),))\n",
    "airport = max(nx.connected_component_subgraphs(airport), key=len)\n",
    "airport = airport.to_undirected()\n",
    "airport = nx.convert_node_labels_to_integers(airport, first_label=0)\n",
    "print(\"\\n\\nUSA Airport\")\n",
    "printInfo(airport)\n",
    "\n",
    "# c-elegans neural\n",
    "celegans = nx.read_edgelist('datasets/C-elegans-frontal.txt')\n",
    "celegans = max(nx.connected_component_subgraphs(celegans), key=len)\n",
    "celegans = celegans.to_undirected()\n",
    "celegans = nx.convert_node_labels_to_integers(celegans, first_label=0)\n",
    "print(\"\\n\\nC-Elegans\")\n",
    "print(\"Fonte: https://snap.stanford.edu/data/C-elegans-frontal.html\\nA versao em .gml estava dando erro.\")\n",
    "printInfo(celegans)\n",
    "\n",
    "# c-elegans 2004\n",
    "celegans2004 = nx.read_edgelist('datasets/C-elegans-2004.txt')\n",
    "celegans2004 = max(nx.connected_component_subgraphs(celegans2004), key=len)\n",
    "celegans2004 = celegans2004.to_undirected()\n",
    "celegans2004 = nx.convert_node_labels_to_integers(celegans2004, first_label=0)\n",
    "print(\"\\n\\nC-Elegans 2004\")\n",
    "printInfo(celegans2004)\n",
    "\n",
    "# c-elegans 2007\n",
    "celegans2007 = nx.read_edgelist('datasets/C-elegans-2007.txt')\n",
    "celegans2007 = max(nx.connected_component_subgraphs(celegans2007), key=len)\n",
    "celegans2007 = celegans2007.to_undirected()\n",
    "celegans2007 = nx.convert_node_labels_to_integers(celegans2007, first_label=0)\n",
    "print(\"\\n\\nC-Elegans 2007\")\n",
    "printInfo(celegans2007)\n",
    "\n",
    "#E-Roads\n",
    "e_road = nx.read_edgelist('datasets/euroroad', comments='%')\n",
    "e_road = max(nx.connected_component_subgraphs(e_road), key=len)\n",
    "e_road = e_road.to_undirected()\n",
    "e_road = nx.convert_node_labels_to_integers(e_road, first_label=0)\n",
    "print(\"E-Roads\")\n",
    "printInfo(e_road)\n",
    "\n",
    "# Hamsterster Friends\n",
    "ham = nx.read_edgelist('datasets/hamsterster', comments='%')\n",
    "ham = max(nx.connected_component_subgraphs(ham), key=len)\n",
    "ham = ham.to_undirected()\n",
    "ham = nx.convert_node_labels_to_integers(ham, first_label=0)\n",
    "print(\"\\n\\nHamsterster Friends\")\n",
    "printInfo(ham)\n",
    "\n",
    "#Human Protein\n",
    "protein = nx.read_edgelist(\"datasets/out.maayan-vidal\", comments='%')\n",
    "protein = max(nx.connected_component_subgraphs(protein), key=len)\n",
    "protein = protein.to_undirected()\n",
    "protein = nx.convert_node_labels_to_integers(protein, first_label=0)\n",
    "print(\"\\n\\nHuman Protein\")\n",
    "printInfo(protein)\n",
    "\n",
    "#Karate Club\n",
    "karate = nx.karate_club_graph()\n",
    "karate = max(nx.connected_component_subgraphs(karate), key=len)\n",
    "karate = karate.to_undirected()\n",
    "karate = nx.convert_node_labels_to_integers(karate, first_label=0)\n",
    "print(\"\\n\\nKarate Club\")\n",
    "printInfo(karate)\n",
    "\n",
    "#Power Grid\n",
    "power_grid = nx.read_gml('datasets/power.gml', label=None)\n",
    "power_grid = max(nx.connected_component_subgraphs(power_grid), key=len)\n",
    "power_grid = power_grid.to_undirected()\n",
    "power_grid = nx.convert_node_labels_to_integers(power_grid, first_label=0)\n",
    "print(\"\\n\\nPower Grid\")\n",
    "printInfo(power_grid)\n",
    "\n",
    "#R Dependencies\n",
    "r_dependencies = nx.read_edgelist('datasets/Rdependencies.csv', comments='%', delimiter=',',nodetype=str)\n",
    "r_dependencies = max(nx.connected_component_subgraphs(r_dependencies), key=len)\n",
    "r_dependencies = r_dependencies.to_undirected()\n",
    "r_dependencies = nx.convert_node_labels_to_integers(r_dependencies, first_label=0)\n",
    "print(\"\\n\\nR Dependencies\")\n",
    "printInfo(r_dependencies)"
   ]
  },
  {
   "cell_type": "markdown",
   "metadata": {},
   "source": [
    "# Questões\n",
    "## 1)"
   ]
  },
  {
   "cell_type": "code",
   "execution_count": null,
   "metadata": {},
   "outputs": [],
   "source": []
  }
 ],
 "metadata": {
  "kernelspec": {
   "display_name": "venv",
   "language": "python",
   "name": "venv"
  },
  "language_info": {
   "codemirror_mode": {
    "name": "ipython",
    "version": 3
   },
   "file_extension": ".py",
   "mimetype": "text/x-python",
   "name": "python",
   "nbconvert_exporter": "python",
   "pygments_lexer": "ipython3",
   "version": "3.7.3"
  }
 },
 "nbformat": 4,
 "nbformat_minor": 2
}
